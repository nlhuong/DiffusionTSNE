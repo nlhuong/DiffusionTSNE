{
 "cells": [
  {
   "cell_type": "markdown",
   "metadata": {},
   "source": [
    "This code and data was provided by Krishnaswamy Lab. We use the exact same code to preprocess the data to ensure comparability of results."
   ]
  },
  {
   "cell_type": "markdown",
   "metadata": {
    "colab_type": "text",
    "id": "ztCJZUfEX3_t"
   },
   "source": [
    "# Introduction\n",
    "\n",
    "In this tutorial, we demonstrate how to use PHATE (Potential of Heat-diffusion for Affinity-based Transition Embedding) to analyze a 31,000 cell 27-day time course of embryoid body (EB) differentiation. You can run and edit this notebook at https://colab.research.google.com/github/KrishnaswamyLab/PHATE/blob/master/Python/tutorial/EmbryoidBody.ipynb. Running the tutorial should take approximately 15 minutes excluding the t-SNE comparison, or 2.5 hours including the comparison.\n",
    "\n",
    "We review the following steps:\n",
    "\n",
    "[1. Loading 10X data](#loading)  \n",
    "[2. Preprocessing: Filtering, Normalizing, and Transforming](#preprocessing)  \n",
    "[3. Embedding Data Using PHATE](#embedding)  \n"
   ]
  },
  {
   "cell_type": "markdown",
   "metadata": {
    "colab_type": "text",
    "id": "d0KT6uOLX3_v"
   },
   "source": [
    "### Time course of human embryoid body differentation\n",
    "\n",
    "Low passage H1 hESCs were maintained on Matrigel-coated dishes in DMEM/F12-N2B27 media supplemented with FGF2. For EB formation, cells were treated with Dispase, dissociated into small clumps and plated in non-adherent plates in media supplemented with 20% FBS,\n",
    "45\n",
    "which was prescreened for EB differentiation. Samples were collected during 3-day intervals during a 27 day-long differentiation timecourse. An undifferentiated hESC sample was also included (Figure S7D). Induction of key germ layer markers in these EB cultures was validated by qPCR (data not shown). For single cell analyses, EB cultures were dissociated, FACS sorted to remove doublets and dead cells and processed on a 10x genomics instrument to generate cDNA libraries, which were then sequenced. Small scale sequencing determined that we have successfully collected data on approximately 31,000 cells equally distributed throughout the timecourse.\n"
   ]
  },
  {
   "cell_type": "code",
   "execution_count": 1,
   "metadata": {},
   "outputs": [],
   "source": [
    "import sys\n",
    "import os\n",
    "#limit the number of threds numpy/scipy are using\n",
    "os.environ[\"OMP_NUM_THREADS\"] = \"10\"\n",
    "import time \n",
    "import pickle\n",
    "import pandas as pd\n",
    "import numpy as np\n",
    "import multiprocessing as mp\n",
    "import phate\n",
    "import scprep\n",
    "import scipy.sparse\n",
    "\n",
    "# plotting\n",
    "import matplotlib.pyplot as plt\n",
    "import matplotlib.gridspec as gridspec\n",
    "\n",
    "import matplotlib as mpl\n",
    "mpl.rcParams['figure.titlesize'] = 24\n",
    "mpl.rcParams['axes.titlesize']   = 24\n",
    "mpl.rcParams['axes.labelsize']   = 24\n",
    "mpl.rcParams['xtick.labelsize']  = 24\n",
    "mpl.rcParams['ytick.labelsize']  = 24\n",
    "\n",
    "%load_ext autoreload\n",
    "%autoreload 2\n",
    "\n",
    "# matplotlib settings for Jupyter notebooks only\n",
    "%matplotlib inline\n"
   ]
  },
  {
   "cell_type": "markdown",
   "metadata": {
    "colab_type": "text",
    "id": "6ryeLKAmX3_x"
   },
   "source": [
    "<a id='loading'></a>\n",
    "## 1. Loading 10X data"
   ]
  },
  {
   "cell_type": "markdown",
   "metadata": {
    "colab_type": "text",
    "id": "nibqYdYyX3_y"
   },
   "source": [
    "### Downloading Data from Mendeley Datasets\n",
    "\n",
    "The EB dataset is publically available as `scRNAseq.zip` at Mendelay Datasets at <https://data.mendeley.com/datasets/v6n743h5ng/>. \n",
    "\n",
    "Inside the scRNAseq folder, there are five subdirectories, and in each subdirectory are three files: `barcodes.tsv`, `genes.tsv`, and `matrix.mtx`. For more information about how CellRanger produces these files, check out the [Gene-Barcode Matrices Documentation](https://support.10xgenomics.com/single-cell-gene-expression/software/pipelines/latest/output/matrices).\n",
    "\n",
    "Here's the directory structure:\n",
    "```\n",
    "download_path\n",
    "└── scRNAseq\n",
    "    ├── scRNAseq.zip\n",
    "    ├── T0_1A\n",
    "    │   ├── barcodes.tsv\n",
    "    │   ├── genes.tsv\n",
    "    │   └── matrix.mtx\n",
    "    ├── T2_3B\n",
    "    │   ├── barcodes.tsv\n",
    "    │   ├── genes.tsv\n",
    "    │   └── matrix.mtx\n",
    "    ├── T4_5C\n",
    "    │   ├── barcodes.tsv\n",
    "    │   ├── genes.tsv\n",
    "    │   └── matrix.mtx\n",
    "    ├── T6_7D\n",
    "    │   ├── barcodes.tsv\n",
    "    │   ├── genes.tsv\n",
    "    │   └── matrix.mtx\n",
    "    └── T8_9E\n",
    "        ├── barcodes.tsv\n",
    "        ├── genes.tsv\n",
    "        └── matrix.mtx\n",
    "```\n",
    "\n",
    "If you have downloaded the files already, set the `download_path` below to the directory where you saved the files. If not, the following code will download the data for you. Not that the download is 746MB: you must have sufficient disk space for the download."
   ]
  },
  {
   "cell_type": "code",
   "execution_count": 3,
   "metadata": {
    "colab": {
     "base_uri": "https://localhost:8080/",
     "height": 35
    },
    "colab_type": "code",
    "executionInfo": {
     "elapsed": 436,
     "status": "ok",
     "timestamp": 1551241793832,
     "user": {
      "displayName": "Lan Huong Nguyen",
      "photoUrl": "",
      "userId": "06140574101219727469"
     },
     "user_tz": 480
    },
    "id": "J-zZi5g_X3_z",
    "outputId": "05fbe248-7dfd-4d6d-ac47-32eeca2a5d4d"
   },
   "outputs": [
    {
     "name": "stdout",
     "output_type": "stream",
     "text": [
      ".\n"
     ]
    }
   ],
   "source": [
    "import os\n",
    "import zipfile\n",
    "from urllib.request import urlopen\n",
    "download_path = os.path.expanduser(\".\")\n",
    "print(download_path)"
   ]
  },
  {
   "cell_type": "code",
   "execution_count": 6,
   "metadata": {
    "colab": {},
    "colab_type": "code",
    "id": "lKFFTbJyX3_6"
   },
   "outputs": [
    {
     "name": "stdout",
     "output_type": "stream",
     "text": [
      "Unzipping...\n",
      "Done.\n"
     ]
    }
   ],
   "source": [
    "import os\n",
    "import zipfile\n",
    "if not os.path.isdir(os.path.join(download_path, \"scRNAseq\", \"T0_1A\")):\n",
    "    if not os.path.isdir(download_path):\n",
    "        os.mkdir(download_path)\n",
    "    zip_data = os.path.join(download_path, \"scRNAseq.zip\")\n",
    "    if not os.path.isfile(zip_data):\n",
    "        with urlopen(\"https://data.mendeley.com/datasets/v6n743h5ng\"\n",
    "                     \"/1/files/7489a88f-9ef6-4dff-a8f8-1381d046afe3/scRNAseq.zip?dl=1\") as url:\n",
    "            print(\"Downloading data file...\")\n",
    "            # Open our local file for writing\n",
    "            with open(zip_data, \"wb\") as handle:\n",
    "                handle.write(url.read())\n",
    "    print(\"Unzipping...\")\n",
    "    with zipfile.ZipFile(zip_data, 'r') as handle:\n",
    "        handle.extractall(download_path)\n",
    "    print(\"Done.\")"
   ]
  },
  {
   "cell_type": "markdown",
   "metadata": {
    "colab_type": "text",
    "id": "wWN9KcWrX3_-"
   },
   "source": [
    "### Using `scprep` to import data into Pandas DataFrames\n",
    "\n",
    "\n",
    "We use a toolkit for loading and manipulating single-cell data called `scprep`. The function `load_10X` will automatically load 10X scRNAseq datasets (and others) into a Pandas DataFrame. DataFrames are incredibly useful tools for data analysis in Python. To learn more about them, [check out the Pandas Documentation and Tutorials](https://pandas.pydata.org/pandas-docs/stable/).\n",
    "\n",
    "\n",
    "Let's load the data and create a single matrix that we can use for preprocessing, visualization, and analysis."
   ]
  },
  {
   "cell_type": "markdown",
   "metadata": {
    "colab_type": "text",
    "id": "RyU0pli1X3_-"
   },
   "source": [
    "#### 0. Install PHATE\n",
    "\n",
    "If you have not already installed PHATE and `scprep`, we can install them from the notebook. You may need to restart the kernel/runtime after installation."
   ]
  },
  {
   "cell_type": "code",
   "execution_count": 5,
   "metadata": {
    "colab": {
     "base_uri": "https://localhost:8080/",
     "height": 521
    },
    "colab_type": "code",
    "executionInfo": {
     "elapsed": 5904,
     "status": "ok",
     "timestamp": 1551227900201,
     "user": {
      "displayName": "Lan Huong Nguyen",
      "photoUrl": "",
      "userId": "06140574101219727469"
     },
     "user_tz": 480
    },
    "id": "dYM7oah5X4AA",
    "outputId": "ce67c224-057f-4753-b8b6-0fc0a428db55"
   },
   "outputs": [
    {
     "name": "stdout",
     "output_type": "stream",
     "text": [
      "Collecting phate\n",
      "  Downloading https://files.pythonhosted.org/packages/d7/79/f547d9bca700b835f1d48be0dbe9655f930f36fafdc44b2ddcddd53c3bf7/phate-0.4.1-py3-none-any.whl\n",
      "Collecting scprep\n",
      "\u001b[?25l  Downloading https://files.pythonhosted.org/packages/c9/99/a798ce81c31781a32bc8b728a6c8e09837c7e9ea9207a647873ab743c06c/scprep-0.10.2-py3-none-any.whl (59kB)\n",
      "\u001b[K    100% |████████████████████████████████| 61kB 7.8MB/s \n",
      "\u001b[?25hCollecting tasklogger>=0.4.0 (from phate)\n",
      "  Downloading https://files.pythonhosted.org/packages/2e/4d/9790904bb5ec98dbdeb81b9e52c15f125a3f88103d03d26dbff9cfce3f9c/tasklogger-0.4.2-py3-none-any.whl\n",
      "Collecting graphtools>=1.0.0 (from phate)\n",
      "  Downloading https://files.pythonhosted.org/packages/e3/49/0c0a0a64a29c948fbee44a437dae711afb69b81d4d4042fa9efbe28c6320/graphtools-1.0.0-py3-none-any.whl\n",
      "Requirement already satisfied: matplotlib>=2.0.1 in /usr/local/lib/python3.6/dist-packages (from phate) (3.0.2)\n",
      "Requirement already satisfied: numpy>=1.14.0 in /usr/local/lib/python3.6/dist-packages (from phate) (1.14.6)\n",
      "Requirement already satisfied: scipy>=1.1.0 in /usr/local/lib/python3.6/dist-packages (from phate) (1.1.0)\n",
      "Requirement already satisfied: scikit-learn>=0.20.0 in /usr/local/lib/python3.6/dist-packages (from phate) (0.20.2)\n",
      "Requirement already satisfied: future in /usr/local/lib/python3.6/dist-packages (from phate) (0.16.0)\n",
      "Requirement already satisfied: decorator in /usr/local/lib/python3.6/dist-packages (from scprep) (4.3.2)\n",
      "Requirement already satisfied: pandas<0.24,>=0.19.0 in /usr/local/lib/python3.6/dist-packages (from scprep) (0.22.0)\n",
      "Collecting pygsp>=0.5.1 (from graphtools>=1.0.0->phate)\n",
      "\u001b[?25l  Downloading https://files.pythonhosted.org/packages/d4/89/2f4aa73cccf12bec5179ac5d52a68b508120c838b7e5d456f5ea0c8beade/PyGSP-0.5.1-py2.py3-none-any.whl (1.8MB)\n",
      "\u001b[K    100% |████████████████████████████████| 1.8MB 11.6MB/s \n",
      "\u001b[?25hRequirement already satisfied: python-dateutil>=2.1 in /usr/local/lib/python3.6/dist-packages (from matplotlib>=2.0.1->phate) (2.5.3)\n",
      "Requirement already satisfied: cycler>=0.10 in /usr/local/lib/python3.6/dist-packages (from matplotlib>=2.0.1->phate) (0.10.0)\n",
      "Requirement already satisfied: kiwisolver>=1.0.1 in /usr/local/lib/python3.6/dist-packages (from matplotlib>=2.0.1->phate) (1.0.1)\n",
      "Requirement already satisfied: pyparsing!=2.0.4,!=2.1.2,!=2.1.6,>=2.0.1 in /usr/local/lib/python3.6/dist-packages (from matplotlib>=2.0.1->phate) (2.3.1)\n",
      "Requirement already satisfied: pytz>=2011k in /usr/local/lib/python3.6/dist-packages (from pandas<0.24,>=0.19.0->scprep) (2018.9)\n",
      "Requirement already satisfied: six>=1.5 in /usr/local/lib/python3.6/dist-packages (from python-dateutil>=2.1->matplotlib>=2.0.1->phate) (1.11.0)\n",
      "Requirement already satisfied: setuptools in /usr/local/lib/python3.6/dist-packages (from kiwisolver>=1.0.1->matplotlib>=2.0.1->phate) (40.8.0)\n",
      "Installing collected packages: tasklogger, pygsp, graphtools, scprep, phate\n",
      "Successfully installed graphtools-1.0.0 phate-0.4.1 pygsp-0.5.1 scprep-0.10.2 tasklogger-0.4.2\n"
     ]
    }
   ],
   "source": [
    "!pip install --user phate scprep"
   ]
  },
  {
   "cell_type": "markdown",
   "metadata": {
    "colab_type": "text",
    "id": "7JRaj8tDX4AC"
   },
   "source": [
    "#### 1. Standard imports"
   ]
  },
  {
   "cell_type": "code",
   "execution_count": 2,
   "metadata": {
    "colab": {},
    "colab_type": "code",
    "collapsed": true,
    "id": "Tz6TUly9X4AD"
   },
   "outputs": [],
   "source": [
    "import os\n",
    "os.environ[\"OMP_NUM_THREADS\"] = \"1\"\n",
    "import time\n",
    "\n",
    "import pandas as pd\n",
    "import numpy as np\n",
    "import phate\n",
    "import scprep\n",
    "import scipy.sparse\n",
    "\n",
    "import matplotlib.pyplot as plt\n",
    "import matplotlib.gridspec as gridspec\n",
    "\n",
    "# matplotlib settings for Jupyter notebooks only\n",
    "%matplotlib inline"
   ]
  },
  {
   "cell_type": "markdown",
   "metadata": {
    "colab_type": "text",
    "id": "FYS_Fn3OX4AH"
   },
   "source": [
    "#### 2. Use `scprep.io.load_10X` to import all three matrices into a DataFrame for each sample (this may take a few minutes)\n",
    "\n",
    "Note: By default, `scprep.io.load_10X` loads scRNA-seq data using the Pandas SparseDataFrame [(**see Pandas docs**)](https://pandas.pydata.org/pandas-docs/stable/sparse.html) to maximize memory efficiency. However, this will be slower than loading on a dense matrix. To load a dense matrix, pass the `sparse=False` argument to `load_10X`. We use `gene_labels = 'both'` so we can see the gene symbols while still retaining the uniqueness offered by gene IDs."
   ]
  },
  {
   "cell_type": "code",
   "execution_count": 7,
   "metadata": {
    "colab": {
     "base_uri": "https://localhost:8080/",
     "height": 386
    },
    "colab_type": "code",
    "executionInfo": {
     "elapsed": 145952,
     "status": "ok",
     "timestamp": 1551241947505,
     "user": {
      "displayName": "Lan Huong Nguyen",
      "photoUrl": "",
      "userId": "06140574101219727469"
     },
     "user_tz": 480
    },
    "id": "lVNAalUwX4AH",
    "outputId": "ba65cac9-ce22-4e05-9824-3e8aed0a860b",
    "scrolled": true
   },
   "outputs": [
    {
     "name": "stdout",
     "output_type": "stream",
     "text": [
      ".\n"
     ]
    },
    {
     "data": {
      "text/html": [
       "<div>\n",
       "<style scoped>\n",
       "    .dataframe tbody tr th:only-of-type {\n",
       "        vertical-align: middle;\n",
       "    }\n",
       "\n",
       "    .dataframe tbody tr th {\n",
       "        vertical-align: top;\n",
       "    }\n",
       "\n",
       "    .dataframe thead th {\n",
       "        text-align: right;\n",
       "    }\n",
       "</style>\n",
       "<table border=\"1\" class=\"dataframe\">\n",
       "  <thead>\n",
       "    <tr style=\"text-align: right;\">\n",
       "      <th></th>\n",
       "      <th>RP11-34P13.3 (ENSG00000243485)</th>\n",
       "      <th>FAM138A (ENSG00000237613)</th>\n",
       "      <th>OR4F5 (ENSG00000186092)</th>\n",
       "      <th>RP11-34P13.7 (ENSG00000238009)</th>\n",
       "      <th>RP11-34P13.8 (ENSG00000239945)</th>\n",
       "      <th>RP11-34P13.14 (ENSG00000239906)</th>\n",
       "      <th>RP11-34P13.9 (ENSG00000241599)</th>\n",
       "      <th>FO538757.3 (ENSG00000279928)</th>\n",
       "      <th>FO538757.2 (ENSG00000279457)</th>\n",
       "      <th>AP006222.2 (ENSG00000228463)</th>\n",
       "      <th>...</th>\n",
       "      <th>AC007325.2 (ENSG00000277196)</th>\n",
       "      <th>BX072566.1 (ENSG00000277630)</th>\n",
       "      <th>AL354822.1 (ENSG00000278384)</th>\n",
       "      <th>AC023491.2 (ENSG00000278633)</th>\n",
       "      <th>AC004556.1 (ENSG00000276345)</th>\n",
       "      <th>AC233755.2 (ENSG00000277856)</th>\n",
       "      <th>AC233755.1 (ENSG00000275063)</th>\n",
       "      <th>AC240274.1 (ENSG00000271254)</th>\n",
       "      <th>AC213203.1 (ENSG00000277475)</th>\n",
       "      <th>FAM231B (ENSG00000268674)</th>\n",
       "    </tr>\n",
       "    <tr>\n",
       "      <th>0</th>\n",
       "      <th></th>\n",
       "      <th></th>\n",
       "      <th></th>\n",
       "      <th></th>\n",
       "      <th></th>\n",
       "      <th></th>\n",
       "      <th></th>\n",
       "      <th></th>\n",
       "      <th></th>\n",
       "      <th></th>\n",
       "      <th></th>\n",
       "      <th></th>\n",
       "      <th></th>\n",
       "      <th></th>\n",
       "      <th></th>\n",
       "      <th></th>\n",
       "      <th></th>\n",
       "      <th></th>\n",
       "      <th></th>\n",
       "      <th></th>\n",
       "      <th></th>\n",
       "    </tr>\n",
       "  </thead>\n",
       "  <tbody>\n",
       "    <tr>\n",
       "      <th>AAACATACCAGAGG-1</th>\n",
       "      <td>0.0</td>\n",
       "      <td>0.0</td>\n",
       "      <td>0.0</td>\n",
       "      <td>0.0</td>\n",
       "      <td>0.0</td>\n",
       "      <td>0.0</td>\n",
       "      <td>0.0</td>\n",
       "      <td>0.0</td>\n",
       "      <td>1.0</td>\n",
       "      <td>0.0</td>\n",
       "      <td>...</td>\n",
       "      <td>0.0</td>\n",
       "      <td>0.0</td>\n",
       "      <td>0.0</td>\n",
       "      <td>0.0</td>\n",
       "      <td>0.0</td>\n",
       "      <td>0.0</td>\n",
       "      <td>0.0</td>\n",
       "      <td>0.0</td>\n",
       "      <td>0.0</td>\n",
       "      <td>0.0</td>\n",
       "    </tr>\n",
       "    <tr>\n",
       "      <th>AAACATTGAAAGCA-1</th>\n",
       "      <td>0.0</td>\n",
       "      <td>0.0</td>\n",
       "      <td>0.0</td>\n",
       "      <td>0.0</td>\n",
       "      <td>0.0</td>\n",
       "      <td>0.0</td>\n",
       "      <td>0.0</td>\n",
       "      <td>0.0</td>\n",
       "      <td>0.0</td>\n",
       "      <td>0.0</td>\n",
       "      <td>...</td>\n",
       "      <td>0.0</td>\n",
       "      <td>0.0</td>\n",
       "      <td>0.0</td>\n",
       "      <td>0.0</td>\n",
       "      <td>0.0</td>\n",
       "      <td>0.0</td>\n",
       "      <td>0.0</td>\n",
       "      <td>0.0</td>\n",
       "      <td>0.0</td>\n",
       "      <td>0.0</td>\n",
       "    </tr>\n",
       "    <tr>\n",
       "      <th>AAACATTGAAGTGA-1</th>\n",
       "      <td>0.0</td>\n",
       "      <td>0.0</td>\n",
       "      <td>0.0</td>\n",
       "      <td>0.0</td>\n",
       "      <td>0.0</td>\n",
       "      <td>0.0</td>\n",
       "      <td>0.0</td>\n",
       "      <td>0.0</td>\n",
       "      <td>0.0</td>\n",
       "      <td>0.0</td>\n",
       "      <td>...</td>\n",
       "      <td>0.0</td>\n",
       "      <td>0.0</td>\n",
       "      <td>0.0</td>\n",
       "      <td>0.0</td>\n",
       "      <td>0.0</td>\n",
       "      <td>0.0</td>\n",
       "      <td>0.0</td>\n",
       "      <td>0.0</td>\n",
       "      <td>0.0</td>\n",
       "      <td>0.0</td>\n",
       "    </tr>\n",
       "    <tr>\n",
       "      <th>AAACATTGGAGGTG-1</th>\n",
       "      <td>0.0</td>\n",
       "      <td>0.0</td>\n",
       "      <td>0.0</td>\n",
       "      <td>0.0</td>\n",
       "      <td>0.0</td>\n",
       "      <td>0.0</td>\n",
       "      <td>0.0</td>\n",
       "      <td>0.0</td>\n",
       "      <td>0.0</td>\n",
       "      <td>0.0</td>\n",
       "      <td>...</td>\n",
       "      <td>0.0</td>\n",
       "      <td>0.0</td>\n",
       "      <td>0.0</td>\n",
       "      <td>0.0</td>\n",
       "      <td>0.0</td>\n",
       "      <td>0.0</td>\n",
       "      <td>0.0</td>\n",
       "      <td>0.0</td>\n",
       "      <td>0.0</td>\n",
       "      <td>0.0</td>\n",
       "    </tr>\n",
       "    <tr>\n",
       "      <th>AAACATTGGTTTCT-1</th>\n",
       "      <td>0.0</td>\n",
       "      <td>0.0</td>\n",
       "      <td>0.0</td>\n",
       "      <td>0.0</td>\n",
       "      <td>0.0</td>\n",
       "      <td>0.0</td>\n",
       "      <td>0.0</td>\n",
       "      <td>0.0</td>\n",
       "      <td>0.0</td>\n",
       "      <td>0.0</td>\n",
       "      <td>...</td>\n",
       "      <td>0.0</td>\n",
       "      <td>0.0</td>\n",
       "      <td>0.0</td>\n",
       "      <td>0.0</td>\n",
       "      <td>0.0</td>\n",
       "      <td>0.0</td>\n",
       "      <td>0.0</td>\n",
       "      <td>0.0</td>\n",
       "      <td>0.0</td>\n",
       "      <td>0.0</td>\n",
       "    </tr>\n",
       "  </tbody>\n",
       "</table>\n",
       "<p>5 rows × 33694 columns</p>\n",
       "</div>"
      ],
      "text/plain": [
       "                  RP11-34P13.3 (ENSG00000243485)  FAM138A (ENSG00000237613)  \\\n",
       "0                                                                             \n",
       "AAACATACCAGAGG-1                             0.0                        0.0   \n",
       "AAACATTGAAAGCA-1                             0.0                        0.0   \n",
       "AAACATTGAAGTGA-1                             0.0                        0.0   \n",
       "AAACATTGGAGGTG-1                             0.0                        0.0   \n",
       "AAACATTGGTTTCT-1                             0.0                        0.0   \n",
       "\n",
       "                  OR4F5 (ENSG00000186092)  RP11-34P13.7 (ENSG00000238009)  \\\n",
       "0                                                                           \n",
       "AAACATACCAGAGG-1                      0.0                             0.0   \n",
       "AAACATTGAAAGCA-1                      0.0                             0.0   \n",
       "AAACATTGAAGTGA-1                      0.0                             0.0   \n",
       "AAACATTGGAGGTG-1                      0.0                             0.0   \n",
       "AAACATTGGTTTCT-1                      0.0                             0.0   \n",
       "\n",
       "                  RP11-34P13.8 (ENSG00000239945)  \\\n",
       "0                                                  \n",
       "AAACATACCAGAGG-1                             0.0   \n",
       "AAACATTGAAAGCA-1                             0.0   \n",
       "AAACATTGAAGTGA-1                             0.0   \n",
       "AAACATTGGAGGTG-1                             0.0   \n",
       "AAACATTGGTTTCT-1                             0.0   \n",
       "\n",
       "                  RP11-34P13.14 (ENSG00000239906)  \\\n",
       "0                                                   \n",
       "AAACATACCAGAGG-1                              0.0   \n",
       "AAACATTGAAAGCA-1                              0.0   \n",
       "AAACATTGAAGTGA-1                              0.0   \n",
       "AAACATTGGAGGTG-1                              0.0   \n",
       "AAACATTGGTTTCT-1                              0.0   \n",
       "\n",
       "                  RP11-34P13.9 (ENSG00000241599)  \\\n",
       "0                                                  \n",
       "AAACATACCAGAGG-1                             0.0   \n",
       "AAACATTGAAAGCA-1                             0.0   \n",
       "AAACATTGAAGTGA-1                             0.0   \n",
       "AAACATTGGAGGTG-1                             0.0   \n",
       "AAACATTGGTTTCT-1                             0.0   \n",
       "\n",
       "                  FO538757.3 (ENSG00000279928)  FO538757.2 (ENSG00000279457)  \\\n",
       "0                                                                              \n",
       "AAACATACCAGAGG-1                           0.0                           1.0   \n",
       "AAACATTGAAAGCA-1                           0.0                           0.0   \n",
       "AAACATTGAAGTGA-1                           0.0                           0.0   \n",
       "AAACATTGGAGGTG-1                           0.0                           0.0   \n",
       "AAACATTGGTTTCT-1                           0.0                           0.0   \n",
       "\n",
       "                  AP006222.2 (ENSG00000228463)            ...              \\\n",
       "0                                                         ...               \n",
       "AAACATACCAGAGG-1                           0.0            ...               \n",
       "AAACATTGAAAGCA-1                           0.0            ...               \n",
       "AAACATTGAAGTGA-1                           0.0            ...               \n",
       "AAACATTGGAGGTG-1                           0.0            ...               \n",
       "AAACATTGGTTTCT-1                           0.0            ...               \n",
       "\n",
       "                  AC007325.2 (ENSG00000277196)  BX072566.1 (ENSG00000277630)  \\\n",
       "0                                                                              \n",
       "AAACATACCAGAGG-1                           0.0                           0.0   \n",
       "AAACATTGAAAGCA-1                           0.0                           0.0   \n",
       "AAACATTGAAGTGA-1                           0.0                           0.0   \n",
       "AAACATTGGAGGTG-1                           0.0                           0.0   \n",
       "AAACATTGGTTTCT-1                           0.0                           0.0   \n",
       "\n",
       "                  AL354822.1 (ENSG00000278384)  AC023491.2 (ENSG00000278633)  \\\n",
       "0                                                                              \n",
       "AAACATACCAGAGG-1                           0.0                           0.0   \n",
       "AAACATTGAAAGCA-1                           0.0                           0.0   \n",
       "AAACATTGAAGTGA-1                           0.0                           0.0   \n",
       "AAACATTGGAGGTG-1                           0.0                           0.0   \n",
       "AAACATTGGTTTCT-1                           0.0                           0.0   \n",
       "\n",
       "                  AC004556.1 (ENSG00000276345)  AC233755.2 (ENSG00000277856)  \\\n",
       "0                                                                              \n",
       "AAACATACCAGAGG-1                           0.0                           0.0   \n",
       "AAACATTGAAAGCA-1                           0.0                           0.0   \n",
       "AAACATTGAAGTGA-1                           0.0                           0.0   \n",
       "AAACATTGGAGGTG-1                           0.0                           0.0   \n",
       "AAACATTGGTTTCT-1                           0.0                           0.0   \n",
       "\n",
       "                  AC233755.1 (ENSG00000275063)  AC240274.1 (ENSG00000271254)  \\\n",
       "0                                                                              \n",
       "AAACATACCAGAGG-1                           0.0                           0.0   \n",
       "AAACATTGAAAGCA-1                           0.0                           0.0   \n",
       "AAACATTGAAGTGA-1                           0.0                           0.0   \n",
       "AAACATTGGAGGTG-1                           0.0                           0.0   \n",
       "AAACATTGGTTTCT-1                           0.0                           0.0   \n",
       "\n",
       "                  AC213203.1 (ENSG00000277475)  FAM231B (ENSG00000268674)  \n",
       "0                                                                          \n",
       "AAACATACCAGAGG-1                           0.0                        0.0  \n",
       "AAACATTGAAAGCA-1                           0.0                        0.0  \n",
       "AAACATTGAAGTGA-1                           0.0                        0.0  \n",
       "AAACATTGGAGGTG-1                           0.0                        0.0  \n",
       "AAACATTGGTTTCT-1                           0.0                        0.0  \n",
       "\n",
       "[5 rows x 33694 columns]"
      ]
     },
     "execution_count": 7,
     "metadata": {},
     "output_type": "execute_result"
    }
   ],
   "source": [
    "sparse=True\n",
    "download_path = os.path.expanduser(\".\")\n",
    "print(download_path)\n",
    "T1 = scprep.io.load_10X(os.path.join(download_path, \"scRNAseq\", \"T0_1A\"), sparse=sparse, gene_labels='both')\n",
    "T2 = scprep.io.load_10X(os.path.join(download_path, \"scRNAseq\", \"T2_3B\"), sparse=sparse, gene_labels='both')\n",
    "T3 = scprep.io.load_10X(os.path.join(download_path, \"scRNAseq\", \"T4_5C\"), sparse=sparse, gene_labels='both')\n",
    "T4 = scprep.io.load_10X(os.path.join(download_path, \"scRNAseq\", \"T6_7D\"), sparse=sparse, gene_labels='both')\n",
    "T5 = scprep.io.load_10X(os.path.join(download_path, \"scRNAseq\", \"T8_9E\"), sparse=sparse, gene_labels='both')\n",
    "T1.head()"
   ]
  },
  {
   "cell_type": "markdown",
   "metadata": {
    "colab_type": "text",
    "id": "vwQhf40kX4AM"
   },
   "source": [
    "** 3. Library size filtering **\n",
    "\n",
    "We filter out cells that have either very large or very small library sizes. For this data set, library size correlates somewhat with sample and so we filter on a per-sample basis. In this case, we eliminate the top and bottom 20% of cells for each sample. Similar results are obtained with simpler, less conservative filtering."
   ]
  },
  {
   "cell_type": "code",
   "execution_count": 8,
   "metadata": {
    "colab": {
     "base_uri": "https://localhost:8080/",
     "height": 301
    },
    "colab_type": "code",
    "executionInfo": {
     "elapsed": 147085,
     "status": "ok",
     "timestamp": 1551241951465,
     "user": {
      "displayName": "Lan Huong Nguyen",
      "photoUrl": "",
      "userId": "06140574101219727469"
     },
     "user_tz": 480
    },
    "id": "5jgRCt_2X4AM",
    "outputId": "19e89854-a3f9-47b8-cfd6-9d631da4aa0c",
    "scrolled": true
   },
   "outputs": [
    {
     "data": {
      "text/plain": [
       "<matplotlib.axes._subplots.AxesSubplot at 0x7f6873325a90>"
      ]
     },
     "execution_count": 8,
     "metadata": {},
     "output_type": "execute_result"
    },
    {
     "data": {
      "image/png": "[encoded data removed]",
      "text/plain": [
       "<Figure size 432x288 with 1 Axes>"
      ]
     },
     "metadata": {
      "needs_background": "light"
     },
     "output_type": "display_data"
    }
   ],
   "source": [
    "scprep.plot.plot_library_size(T1, percentile=20)"
   ]
  },
  {
   "cell_type": "code",
   "execution_count": 9,
   "metadata": {
    "colab": {},
    "colab_type": "code",
    "collapsed": true,
    "id": "ePMOz3wcX4AR"
   },
   "outputs": [],
   "source": [
    "filtered_batches = []\n",
    "for batch in [T1, T2, T3, T4, T5]:\n",
    "    batch = scprep.filter.filter_library_size(batch, percentile=20, keep_cells='above')\n",
    "    batch = scprep.filter.filter_library_size(batch, percentile=75, keep_cells='below')\n",
    "    filtered_batches.append(batch)\n",
    "del T1, T2, T3, T4, T5 # removes objects from memory"
   ]
  },
  {
   "cell_type": "markdown",
   "metadata": {
    "colab_type": "text",
    "id": "wi1yv184X4AT"
   },
   "source": [
    "#### 4. Merge all datasets and create a vector representing the time point of each sample"
   ]
  },
  {
   "cell_type": "code",
   "execution_count": 10,
   "metadata": {
    "colab": {
     "base_uri": "https://localhost:8080/",
     "height": 355
    },
    "colab_type": "code",
    "executionInfo": {
     "elapsed": 311030,
     "status": "ok",
     "timestamp": 1551242120207,
     "user": {
      "displayName": "Lan Huong Nguyen",
      "photoUrl": "",
      "userId": "06140574101219727469"
     },
     "user_tz": 480
    },
    "id": "mK9vBLsDX4AU",
    "outputId": "dc071a7f-b2c0-4e92-a887-91607c58d378"
   },
   "outputs": [
    {
     "data": {
      "text/html": [
       "<div>\n",
       "<style scoped>\n",
       "    .dataframe tbody tr th:only-of-type {\n",
       "        vertical-align: middle;\n",
       "    }\n",
       "\n",
       "    .dataframe tbody tr th {\n",
       "        vertical-align: top;\n",
       "    }\n",
       "\n",
       "    .dataframe thead th {\n",
       "        text-align: right;\n",
       "    }\n",
       "</style>\n",
       "<table border=\"1\" class=\"dataframe\">\n",
       "  <thead>\n",
       "    <tr style=\"text-align: right;\">\n",
       "      <th></th>\n",
       "      <th>RP11-34P13.3 (ENSG00000243485)</th>\n",
       "      <th>FAM138A (ENSG00000237613)</th>\n",
       "      <th>OR4F5 (ENSG00000186092)</th>\n",
       "      <th>RP11-34P13.7 (ENSG00000238009)</th>\n",
       "      <th>RP11-34P13.8 (ENSG00000239945)</th>\n",
       "      <th>RP11-34P13.14 (ENSG00000239906)</th>\n",
       "      <th>RP11-34P13.9 (ENSG00000241599)</th>\n",
       "      <th>FO538757.3 (ENSG00000279928)</th>\n",
       "      <th>FO538757.2 (ENSG00000279457)</th>\n",
       "      <th>AP006222.2 (ENSG00000228463)</th>\n",
       "      <th>...</th>\n",
       "      <th>AC007325.2 (ENSG00000277196)</th>\n",
       "      <th>BX072566.1 (ENSG00000277630)</th>\n",
       "      <th>AL354822.1 (ENSG00000278384)</th>\n",
       "      <th>AC023491.2 (ENSG00000278633)</th>\n",
       "      <th>AC004556.1 (ENSG00000276345)</th>\n",
       "      <th>AC233755.2 (ENSG00000277856)</th>\n",
       "      <th>AC233755.1 (ENSG00000275063)</th>\n",
       "      <th>AC240274.1 (ENSG00000271254)</th>\n",
       "      <th>AC213203.1 (ENSG00000277475)</th>\n",
       "      <th>FAM231B (ENSG00000268674)</th>\n",
       "    </tr>\n",
       "  </thead>\n",
       "  <tbody>\n",
       "    <tr>\n",
       "      <th>AAACATTGAAAGCA-1_Day 00-03</th>\n",
       "      <td>0.0</td>\n",
       "      <td>0.0</td>\n",
       "      <td>0.0</td>\n",
       "      <td>0.0</td>\n",
       "      <td>0.0</td>\n",
       "      <td>0.0</td>\n",
       "      <td>0.0</td>\n",
       "      <td>0.0</td>\n",
       "      <td>0.0</td>\n",
       "      <td>0.0</td>\n",
       "      <td>...</td>\n",
       "      <td>0.0</td>\n",
       "      <td>0.0</td>\n",
       "      <td>0.0</td>\n",
       "      <td>0.0</td>\n",
       "      <td>0.0</td>\n",
       "      <td>0.0</td>\n",
       "      <td>0.0</td>\n",
       "      <td>0.0</td>\n",
       "      <td>0.0</td>\n",
       "      <td>0.0</td>\n",
       "    </tr>\n",
       "    <tr>\n",
       "      <th>AAACCGTGCAGAAA-1_Day 00-03</th>\n",
       "      <td>0.0</td>\n",
       "      <td>0.0</td>\n",
       "      <td>0.0</td>\n",
       "      <td>0.0</td>\n",
       "      <td>0.0</td>\n",
       "      <td>0.0</td>\n",
       "      <td>0.0</td>\n",
       "      <td>0.0</td>\n",
       "      <td>0.0</td>\n",
       "      <td>0.0</td>\n",
       "      <td>...</td>\n",
       "      <td>0.0</td>\n",
       "      <td>0.0</td>\n",
       "      <td>0.0</td>\n",
       "      <td>0.0</td>\n",
       "      <td>0.0</td>\n",
       "      <td>0.0</td>\n",
       "      <td>0.0</td>\n",
       "      <td>0.0</td>\n",
       "      <td>0.0</td>\n",
       "      <td>0.0</td>\n",
       "    </tr>\n",
       "    <tr>\n",
       "      <th>AAACCGTGGAAGGC-1_Day 00-03</th>\n",
       "      <td>0.0</td>\n",
       "      <td>0.0</td>\n",
       "      <td>0.0</td>\n",
       "      <td>0.0</td>\n",
       "      <td>0.0</td>\n",
       "      <td>0.0</td>\n",
       "      <td>0.0</td>\n",
       "      <td>0.0</td>\n",
       "      <td>0.0</td>\n",
       "      <td>0.0</td>\n",
       "      <td>...</td>\n",
       "      <td>0.0</td>\n",
       "      <td>0.0</td>\n",
       "      <td>0.0</td>\n",
       "      <td>0.0</td>\n",
       "      <td>0.0</td>\n",
       "      <td>0.0</td>\n",
       "      <td>0.0</td>\n",
       "      <td>0.0</td>\n",
       "      <td>0.0</td>\n",
       "      <td>0.0</td>\n",
       "    </tr>\n",
       "    <tr>\n",
       "      <th>AAACGCACCGGTAT-1_Day 00-03</th>\n",
       "      <td>0.0</td>\n",
       "      <td>0.0</td>\n",
       "      <td>0.0</td>\n",
       "      <td>0.0</td>\n",
       "      <td>0.0</td>\n",
       "      <td>0.0</td>\n",
       "      <td>0.0</td>\n",
       "      <td>0.0</td>\n",
       "      <td>0.0</td>\n",
       "      <td>0.0</td>\n",
       "      <td>...</td>\n",
       "      <td>0.0</td>\n",
       "      <td>0.0</td>\n",
       "      <td>0.0</td>\n",
       "      <td>0.0</td>\n",
       "      <td>0.0</td>\n",
       "      <td>0.0</td>\n",
       "      <td>0.0</td>\n",
       "      <td>0.0</td>\n",
       "      <td>0.0</td>\n",
       "      <td>0.0</td>\n",
       "    </tr>\n",
       "    <tr>\n",
       "      <th>AAACGCACCTATTC-1_Day 00-03</th>\n",
       "      <td>0.0</td>\n",
       "      <td>0.0</td>\n",
       "      <td>0.0</td>\n",
       "      <td>0.0</td>\n",
       "      <td>0.0</td>\n",
       "      <td>0.0</td>\n",
       "      <td>0.0</td>\n",
       "      <td>0.0</td>\n",
       "      <td>0.0</td>\n",
       "      <td>0.0</td>\n",
       "      <td>...</td>\n",
       "      <td>0.0</td>\n",
       "      <td>0.0</td>\n",
       "      <td>0.0</td>\n",
       "      <td>0.0</td>\n",
       "      <td>0.0</td>\n",
       "      <td>0.0</td>\n",
       "      <td>0.0</td>\n",
       "      <td>0.0</td>\n",
       "      <td>0.0</td>\n",
       "      <td>0.0</td>\n",
       "    </tr>\n",
       "  </tbody>\n",
       "</table>\n",
       "<p>5 rows × 33694 columns</p>\n",
       "</div>"
      ],
      "text/plain": [
       "                            RP11-34P13.3 (ENSG00000243485)  \\\n",
       "AAACATTGAAAGCA-1_Day 00-03                             0.0   \n",
       "AAACCGTGCAGAAA-1_Day 00-03                             0.0   \n",
       "AAACCGTGGAAGGC-1_Day 00-03                             0.0   \n",
       "AAACGCACCGGTAT-1_Day 00-03                             0.0   \n",
       "AAACGCACCTATTC-1_Day 00-03                             0.0   \n",
       "\n",
       "                            FAM138A (ENSG00000237613)  \\\n",
       "AAACATTGAAAGCA-1_Day 00-03                        0.0   \n",
       "AAACCGTGCAGAAA-1_Day 00-03                        0.0   \n",
       "AAACCGTGGAAGGC-1_Day 00-03                        0.0   \n",
       "AAACGCACCGGTAT-1_Day 00-03                        0.0   \n",
       "AAACGCACCTATTC-1_Day 00-03                        0.0   \n",
       "\n",
       "                            OR4F5 (ENSG00000186092)  \\\n",
       "AAACATTGAAAGCA-1_Day 00-03                      0.0   \n",
       "AAACCGTGCAGAAA-1_Day 00-03                      0.0   \n",
       "AAACCGTGGAAGGC-1_Day 00-03                      0.0   \n",
       "AAACGCACCGGTAT-1_Day 00-03                      0.0   \n",
       "AAACGCACCTATTC-1_Day 00-03                      0.0   \n",
       "\n",
       "                            RP11-34P13.7 (ENSG00000238009)  \\\n",
       "AAACATTGAAAGCA-1_Day 00-03                             0.0   \n",
       "AAACCGTGCAGAAA-1_Day 00-03                             0.0   \n",
       "AAACCGTGGAAGGC-1_Day 00-03                             0.0   \n",
       "AAACGCACCGGTAT-1_Day 00-03                             0.0   \n",
       "AAACGCACCTATTC-1_Day 00-03                             0.0   \n",
       "\n",
       "                            RP11-34P13.8 (ENSG00000239945)  \\\n",
       "AAACATTGAAAGCA-1_Day 00-03                             0.0   \n",
       "AAACCGTGCAGAAA-1_Day 00-03                             0.0   \n",
       "AAACCGTGGAAGGC-1_Day 00-03                             0.0   \n",
       "AAACGCACCGGTAT-1_Day 00-03                             0.0   \n",
       "AAACGCACCTATTC-1_Day 00-03                             0.0   \n",
       "\n",
       "                            RP11-34P13.14 (ENSG00000239906)  \\\n",
       "AAACATTGAAAGCA-1_Day 00-03                              0.0   \n",
       "AAACCGTGCAGAAA-1_Day 00-03                              0.0   \n",
       "AAACCGTGGAAGGC-1_Day 00-03                              0.0   \n",
       "AAACGCACCGGTAT-1_Day 00-03                              0.0   \n",
       "AAACGCACCTATTC-1_Day 00-03                              0.0   \n",
       "\n",
       "                            RP11-34P13.9 (ENSG00000241599)  \\\n",
       "AAACATTGAAAGCA-1_Day 00-03                             0.0   \n",
       "AAACCGTGCAGAAA-1_Day 00-03                             0.0   \n",
       "AAACCGTGGAAGGC-1_Day 00-03                             0.0   \n",
       "AAACGCACCGGTAT-1_Day 00-03                             0.0   \n",
       "AAACGCACCTATTC-1_Day 00-03                             0.0   \n",
       "\n",
       "                            FO538757.3 (ENSG00000279928)  \\\n",
       "AAACATTGAAAGCA-1_Day 00-03                           0.0   \n",
       "AAACCGTGCAGAAA-1_Day 00-03                           0.0   \n",
       "AAACCGTGGAAGGC-1_Day 00-03                           0.0   \n",
       "AAACGCACCGGTAT-1_Day 00-03                           0.0   \n",
       "AAACGCACCTATTC-1_Day 00-03                           0.0   \n",
       "\n",
       "                            FO538757.2 (ENSG00000279457)  \\\n",
       "AAACATTGAAAGCA-1_Day 00-03                           0.0   \n",
       "AAACCGTGCAGAAA-1_Day 00-03                           0.0   \n",
       "AAACCGTGGAAGGC-1_Day 00-03                           0.0   \n",
       "AAACGCACCGGTAT-1_Day 00-03                           0.0   \n",
       "AAACGCACCTATTC-1_Day 00-03                           0.0   \n",
       "\n",
       "                            AP006222.2 (ENSG00000228463)  \\\n",
       "AAACATTGAAAGCA-1_Day 00-03                           0.0   \n",
       "AAACCGTGCAGAAA-1_Day 00-03                           0.0   \n",
       "AAACCGTGGAAGGC-1_Day 00-03                           0.0   \n",
       "AAACGCACCGGTAT-1_Day 00-03                           0.0   \n",
       "AAACGCACCTATTC-1_Day 00-03                           0.0   \n",
       "\n",
       "                                      ...              \\\n",
       "AAACATTGAAAGCA-1_Day 00-03            ...               \n",
       "AAACCGTGCAGAAA-1_Day 00-03            ...               \n",
       "AAACCGTGGAAGGC-1_Day 00-03            ...               \n",
       "AAACGCACCGGTAT-1_Day 00-03            ...               \n",
       "AAACGCACCTATTC-1_Day 00-03            ...               \n",
       "\n",
       "                            AC007325.2 (ENSG00000277196)  \\\n",
       "AAACATTGAAAGCA-1_Day 00-03                           0.0   \n",
       "AAACCGTGCAGAAA-1_Day 00-03                           0.0   \n",
       "AAACCGTGGAAGGC-1_Day 00-03                           0.0   \n",
       "AAACGCACCGGTAT-1_Day 00-03                           0.0   \n",
       "AAACGCACCTATTC-1_Day 00-03                           0.0   \n",
       "\n",
       "                            BX072566.1 (ENSG00000277630)  \\\n",
       "AAACATTGAAAGCA-1_Day 00-03                           0.0   \n",
       "AAACCGTGCAGAAA-1_Day 00-03                           0.0   \n",
       "AAACCGTGGAAGGC-1_Day 00-03                           0.0   \n",
       "AAACGCACCGGTAT-1_Day 00-03                           0.0   \n",
       "AAACGCACCTATTC-1_Day 00-03                           0.0   \n",
       "\n",
       "                            AL354822.1 (ENSG00000278384)  \\\n",
       "AAACATTGAAAGCA-1_Day 00-03                           0.0   \n",
       "AAACCGTGCAGAAA-1_Day 00-03                           0.0   \n",
       "AAACCGTGGAAGGC-1_Day 00-03                           0.0   \n",
       "AAACGCACCGGTAT-1_Day 00-03                           0.0   \n",
       "AAACGCACCTATTC-1_Day 00-03                           0.0   \n",
       "\n",
       "                            AC023491.2 (ENSG00000278633)  \\\n",
       "AAACATTGAAAGCA-1_Day 00-03                           0.0   \n",
       "AAACCGTGCAGAAA-1_Day 00-03                           0.0   \n",
       "AAACCGTGGAAGGC-1_Day 00-03                           0.0   \n",
       "AAACGCACCGGTAT-1_Day 00-03                           0.0   \n",
       "AAACGCACCTATTC-1_Day 00-03                           0.0   \n",
       "\n",
       "                            AC004556.1 (ENSG00000276345)  \\\n",
       "AAACATTGAAAGCA-1_Day 00-03                           0.0   \n",
       "AAACCGTGCAGAAA-1_Day 00-03                           0.0   \n",
       "AAACCGTGGAAGGC-1_Day 00-03                           0.0   \n",
       "AAACGCACCGGTAT-1_Day 00-03                           0.0   \n",
       "AAACGCACCTATTC-1_Day 00-03                           0.0   \n",
       "\n",
       "                            AC233755.2 (ENSG00000277856)  \\\n",
       "AAACATTGAAAGCA-1_Day 00-03                           0.0   \n",
       "AAACCGTGCAGAAA-1_Day 00-03                           0.0   \n",
       "AAACCGTGGAAGGC-1_Day 00-03                           0.0   \n",
       "AAACGCACCGGTAT-1_Day 00-03                           0.0   \n",
       "AAACGCACCTATTC-1_Day 00-03                           0.0   \n",
       "\n",
       "                            AC233755.1 (ENSG00000275063)  \\\n",
       "AAACATTGAAAGCA-1_Day 00-03                           0.0   \n",
       "AAACCGTGCAGAAA-1_Day 00-03                           0.0   \n",
       "AAACCGTGGAAGGC-1_Day 00-03                           0.0   \n",
       "AAACGCACCGGTAT-1_Day 00-03                           0.0   \n",
       "AAACGCACCTATTC-1_Day 00-03                           0.0   \n",
       "\n",
       "                            AC240274.1 (ENSG00000271254)  \\\n",
       "AAACATTGAAAGCA-1_Day 00-03                           0.0   \n",
       "AAACCGTGCAGAAA-1_Day 00-03                           0.0   \n",
       "AAACCGTGGAAGGC-1_Day 00-03                           0.0   \n",
       "AAACGCACCGGTAT-1_Day 00-03                           0.0   \n",
       "AAACGCACCTATTC-1_Day 00-03                           0.0   \n",
       "\n",
       "                            AC213203.1 (ENSG00000277475)  \\\n",
       "AAACATTGAAAGCA-1_Day 00-03                           0.0   \n",
       "AAACCGTGCAGAAA-1_Day 00-03                           0.0   \n",
       "AAACCGTGGAAGGC-1_Day 00-03                           0.0   \n",
       "AAACGCACCGGTAT-1_Day 00-03                           0.0   \n",
       "AAACGCACCTATTC-1_Day 00-03                           0.0   \n",
       "\n",
       "                            FAM231B (ENSG00000268674)  \n",
       "AAACATTGAAAGCA-1_Day 00-03                        0.0  \n",
       "AAACCGTGCAGAAA-1_Day 00-03                        0.0  \n",
       "AAACCGTGGAAGGC-1_Day 00-03                        0.0  \n",
       "AAACGCACCGGTAT-1_Day 00-03                        0.0  \n",
       "AAACGCACCTATTC-1_Day 00-03                        0.0  \n",
       "\n",
       "[5 rows x 33694 columns]"
      ]
     },
     "execution_count": 10,
     "metadata": {},
     "output_type": "execute_result"
    }
   ],
   "source": [
    "EBT_counts, sample_labels = scprep.utils.combine_batches(\n",
    "    filtered_batches, \n",
    "    [\"Day 00-03\", \"Day 06-09\", \"Day 12-15\", \"Day 18-21\", \"Day 24-27\"],\n",
    "    append_to_cell_names=True\n",
    ")\n",
    "del filtered_batches # removes objects from memory\n",
    "EBT_counts.head()"
   ]
  },
  {
   "cell_type": "markdown",
   "metadata": {
    "colab_type": "text",
    "collapsed": true,
    "id": "fX-wa898X4AY"
   },
   "source": [
    "<a id='preprocessing'></a>\n",
    "## 2. Preprocessing: Filtering, Normalizing, and Transforming\n",
    "\n",
    "### Filtering\n",
    "\n",
    "We filter the data by: \n",
    "1. Removing dead cells  \n",
    "2. Filtering by library size (if we did not do this prior to combining batches)\n",
    "3. Removing genes that are expressed in relatively few cells."
   ]
  },
  {
   "cell_type": "markdown",
   "metadata": {
    "colab_type": "text",
    "collapsed": true,
    "id": "-hQszFT0X4AZ"
   },
   "source": [
    "#### 2.1 Dead cell removal\n",
    "\n",
    "Dead cells are likely to have a higher mitochondrial RNA expression level than live cells. Therefore, we remove suspected dead cells by eliminating cells that have the highest mitochondrial RNA expression levels on average.  \n",
    "\n",
    "First let's look at the distribution of mitochontrial genes."
   ]
  },
  {
   "cell_type": "code",
   "execution_count": 11,
   "metadata": {
    "colab": {
     "base_uri": "https://localhost:8080/",
     "height": 297
    },
    "colab_type": "code",
    "executionInfo": {
     "elapsed": 314937,
     "status": "ok",
     "timestamp": 1551242128033,
     "user": {
      "displayName": "Lan Huong Nguyen",
      "photoUrl": "",
      "userId": "06140574101219727469"
     },
     "user_tz": 480
    },
    "id": "niMEfuU2X4Aa",
    "outputId": "ef045a49-d2c4-422e-b453-b6836f1d2881",
    "scrolled": true
   },
   "outputs": [
    {
     "data": {
      "text/plain": [
       "<matplotlib.axes._subplots.AxesSubplot at 0x7f68536ce908>"
      ]
     },
     "execution_count": 11,
     "metadata": {},
     "output_type": "execute_result"
    },
    {
     "data": {
      "image/png": "[encoded data removed]",
      "text/plain": [
       "<Figure size 432x288 with 1 Axes>"
      ]
     },
     "metadata": {
      "needs_background": "light"
     },
     "output_type": "display_data"
    }
   ],
   "source": [
    "mito_genes = scprep.utils.get_gene_set(EBT_counts, starts_with=\"MT-\") # Get all mitochondrial genes. There are 14, FYI.\n",
    "scprep.plot.plot_gene_set_expression(EBT_counts, genes=mito_genes, percentile=90)"
   ]
  },
  {
   "cell_type": "markdown",
   "metadata": {
    "colab_type": "text",
    "id": "8HMYSEMJX4Ae"
   },
   "source": [
    "Here we see that above the top 90th percentile, there is a steep increase in expression of mitochondrial RNAs. We'll remove these cells from further analysis."
   ]
  },
  {
   "cell_type": "code",
   "execution_count": 12,
   "metadata": {
    "colab": {},
    "colab_type": "code",
    "collapsed": true,
    "id": "5lHzPGZBX4Ag"
   },
   "outputs": [],
   "source": [
    "EBT_counts, sample_labels = scprep.filter.filter_gene_set_expression(\n",
    "    EBT_counts, sample_labels, genes=mito_genes, \n",
    "    percentile=90, \n",
    "    keep_cells='below')"
   ]
  },
  {
   "cell_type": "markdown",
   "metadata": {
    "colab_type": "text",
    "id": "yd-J5y7AX4Ai"
   },
   "source": [
    "** 2.2: Library size filtering **\n",
    "\n",
    "We did this before, because the library size correlated strongly with our samples. However, if we wanted to do something simplier, we could have run the following here instead:\n",
    "\n",
    "`EBT_counts, sample_labels = scprep.filter.library_size_filter(EBT_counts, sample_labels, cutoff=2000)`"
   ]
  },
  {
   "cell_type": "markdown",
   "metadata": {
    "colab_type": "text",
    "collapsed": true,
    "id": "PxwAJS3zX4Aj"
   },
   "source": [
    "#### 2.3 Remove rare genes\n",
    "\n",
    "We eliminate genes that are expressed in 10 cells or fewer."
   ]
  },
  {
   "cell_type": "code",
   "execution_count": 13,
   "metadata": {
    "colab": {},
    "colab_type": "code",
    "collapsed": true,
    "id": "qttPiZUFX4Al"
   },
   "outputs": [],
   "source": [
    "EBT_counts = scprep.filter.filter_rare_genes(EBT_counts, min_cells=10)"
   ]
  },
  {
   "cell_type": "markdown",
   "metadata": {
    "colab_type": "text",
    "id": "VJNUBW7SX4Ap"
   },
   "source": [
    "### Normalization\n",
    "\n",
    "To correct for differences in library sizes, we divide each cell by its library size and then rescale by the median library size.\n",
    "\n",
    "In python this is performed using the preprocessing method `library_size_normalize()`."
   ]
  },
  {
   "cell_type": "code",
   "execution_count": 14,
   "metadata": {
    "colab": {},
    "colab_type": "code",
    "collapsed": true,
    "id": "vb8mXENsX4Ar"
   },
   "outputs": [],
   "source": [
    "EBT_counts = scprep.normalize.library_size_normalize(EBT_counts)\n",
    "type(EBT_counts.values)"
   ]
  },
  {
   "cell_type": "markdown",
   "metadata": {
    "colab_type": "text",
    "id": "ZezHaZSoX4Av"
   },
   "source": [
    "### Transformation\n",
    "\n",
    "In scRNA-seq analysis, the data is often $\\log$-transformed. This typically requires the addition of some small value to avoid taking $\\log(0)$. We avoid this issue entirely by instead taking the square root transform. The square root function has a similar form as the $\\log$ function with the added benefit of being stable at 0."
   ]
  },
  {
   "cell_type": "code",
   "execution_count": 16,
   "metadata": {
    "colab": {},
    "colab_type": "code",
    "collapsed": true,
    "id": "tECTM2l2X4Aw"
   },
   "outputs": [],
   "source": [
    "EBT_sqrt = scprep.transform.sqrt(EBT_counts)\n",
    "EBT_sqrt.to_pickle(\"EBT_sqrt.pkl\")\n",
    "np.save('EBT_sample_labels.npy', sample_labels)"
   ]
  },
  {
   "cell_type": "markdown",
   "metadata": {
    "colab_type": "text",
    "id": "C9YWcRXmX4Az"
   },
   "source": [
    "<a id='embedding'></a>\n",
    "## 3. Embedding Data Using PHATE"
   ]
  },
  {
   "cell_type": "markdown",
   "metadata": {
    "colab_type": "text",
    "id": "qg07i_W4X4A0"
   },
   "source": [
    "### 3.1 Instantiating the PHATE estimator\n",
    "\n",
    "The API of PHATE models that of Scikit Learn. First, you instantiate a PHATE estimator object with the parameters for fitting the PHATE embedding to a given dataset. Next, you use the `fit` and `fit_transform` functions to generate an embedding. For more information, check out [**the PHATE readthedocs page**](http://phate.readthedocs.io/).\n",
    "\n",
    "We'll just use the default parameters for now, but the following parameters can be tuned (read our documentation at [phate.readthedocs.io](https://phate.readthedocs.io/) to learn more):\n",
    "\n",
    "* `knn` : Number of nearest neighbors (default: 5). Increase this (e.g. to 20) if your PHATE embedding appears very disconnected. You should also consider increasing `k` if your dataset is extremely large (e.g. >100k cells)\n",
    "* `decay` : Alpha decay (default: 15). Decreasing `a` increases connectivity on the graph, increasing `a` decreases connectivity. This rarely needs to be tuned. Set it to `None` for a k-nearest neighbors kernel.\n",
    "* `t` : Number of times to power the operator (default: 'auto'). This is equivalent to the amount of smoothing done to the data. It is chosen automatically by default, but you can increase it if your embedding lacks structure, or decrease it if the structure looks too compact.\n",
    "* `gamma` : Informational distance constant (default: 1). `gamma=1` gives the PHATE log potential, but other informational distances can be interesting. If most of the points seem concentrated in one section of the plot, you can try `gamma=0`."
   ]
  },
  {
   "cell_type": "markdown",
   "metadata": {
    "colab_type": "text",
    "id": "QwZT0sHAX4A1"
   },
   "source": [
    "Here's the simplest way to apply PHATE:"
   ]
  },
  {
   "cell_type": "code",
   "execution_count": 9,
   "metadata": {
    "colab": {
     "base_uri": "https://localhost:8080/",
     "height": 449
    },
    "colab_type": "code",
    "executionInfo": {
     "elapsed": 207141,
     "status": "ok",
     "timestamp": 1551243365964,
     "user": {
      "displayName": "Lan Huong Nguyen",
      "photoUrl": "",
      "userId": "06140574101219727469"
     },
     "user_tz": 480
    },
    "id": "V7GYL5UPX4A1",
    "outputId": "d1ffa9d6-d993-4583-ee0a-75f1643104b4"
   },
   "outputs": [
    {
     "name": "stdout",
     "output_type": "stream",
     "text": [
      "Calculating PHATE...\n",
      "  Running PHATE on 16821 cells and 17619 genes.\n",
      "  Calculating graph and diffusion operator...\n",
      "    Calculating PCA...\n",
      "    Calculated PCA in 44.46 seconds.\n",
      "    Calculating KNN search...\n",
      "    Calculated KNN search in 29.83 seconds.\n",
      "    Calculating affinities...\n",
      "    Calculated affinities in 0.51 seconds.\n",
      "  Calculated graph and diffusion operator in 90.67 seconds.\n",
      "  Calculating landmark operator...\n",
      "    Calculating SVD...\n",
      "    Calculated SVD in 2.65 seconds.\n",
      "    Calculating KMeans...\n",
      "    Calculated KMeans in 29.67 seconds.\n",
      "  Calculated landmark operator in 34.75 seconds.\n",
      "  Calculating optimal t...\n",
      "    Automatically selected t = 21\n",
      "  Calculated optimal t in 1.73 seconds.\n",
      "  Calculating diffusion potential...\n",
      "  Calculated diffusion potential in 0.65 seconds.\n",
      "  Calculating metric MDS...\n",
      "  Calculated metric MDS in 23.98 seconds.\n",
      "Calculated PHATE in 151.79 seconds.\n",
      "Embedded PHATE in 151.79 seconds.\n"
     ]
    }
   ],
   "source": [
    "start = time.time()\n",
    "phate_operator = phate.PHATE(n_jobs=10)\n",
    "Y_phate = phate_operator.fit_transform(EBT_sqrt)\n",
    "end = time.time()\n",
    "print(\"Embedded PHATE in {:.2f} seconds.\".format(end-start))"
   ]
  },
  {
   "cell_type": "markdown",
   "metadata": {
    "colab_type": "text",
    "id": "qgBBjZEYX4A5"
   },
   "source": [
    "And then we plot using `scprep.plot.scatter2d`. For more advanced plotting, we recommend Matplotlib. If you want more help on using Matplotlib, they have [**extensive documentation**](https://matplotlib.org/tutorials/index.html) and [**many Stackoverflow threads**](https://stackoverflow.com/questions/tagged/matplotlib)."
   ]
  },
  {
   "cell_type": "code",
   "execution_count": 7,
   "metadata": {},
   "outputs": [
    {
     "data": {
      "text/plain": [
       "(16821, 2)"
      ]
     },
     "execution_count": 7,
     "metadata": {},
     "output_type": "execute_result"
    }
   ],
   "source": [
    "Y_phate.shape"
   ]
  },
  {
   "cell_type": "code",
   "execution_count": 8,
   "metadata": {
    "colab": {
     "base_uri": "https://localhost:8080/",
     "height": 498
    },
    "colab_type": "code",
    "executionInfo": {
     "elapsed": 203357,
     "status": "ok",
     "timestamp": 1551230947523,
     "user": {
      "displayName": "Lan Huong Nguyen",
      "photoUrl": "",
      "userId": "06140574101219727469"
     },
     "user_tz": 480
    },
    "id": "PLurvyBSX4A5",
    "outputId": "3814f383-4706-4f47-b6ac-df5b34fe2eba"
   },
   "outputs": [
    {
     "data": {
      "text/plain": [
       "<matplotlib.axes._subplots.AxesSubplot at 0x7f6ebfd56588>"
      ]
     },
     "execution_count": 8,
     "metadata": {},
     "output_type": "execute_result"
    },
    {
     "data": {
      "image/png": "[encoded data removed]",
      "text/plain": [
       "<Figure size 864x576 with 1 Axes>"
      ]
     },
     "metadata": {},
     "output_type": "display_data"
    }
   ],
   "source": [
    "scprep.plot.scatter2d(Y_phate, c=sample_labels, figsize=(12,8), cmap=\"Spectral\",\n",
    "                      ticks=False, label_prefix=\"PHATE\")"
   ]
  },
  {
   "cell_type": "markdown",
   "metadata": {
    "colab_type": "text",
    "id": "j_d1U4WEX4A8"
   },
   "source": [
    "Since we are looking for subtle structure and we expect some of the trajectories to be sparse, we might want to decrease `k` from the default of 5, and reduce `t` from the automatic value of 21 (printed in the output above). For single-cell RNA-seq you can try `k` as low as 3 or 4 if you're looking for subtle structure, or as high as 30 or 40 if you have hundreds of thousands of cells. We'll also reduce `a` here to 15 to partially offset the decreased connectivity as a result of decreasing `k`."
   ]
  },
  {
   "cell_type": "code",
   "execution_count": null,
   "metadata": {
    "colab": {},
    "colab_type": "code",
    "id": "eRnqwM89X4A9"
   },
   "outputs": [],
   "source": [
    "# phate_operator.set_params(knn=4, decay=15, t=12)\n",
    "# # We could also create a new operator:\n",
    "# # phate_operator = phate.PHATE(knn=4, decay=15, t=12, n_jobs=-2)\n",
    "\n",
    "# Y_phate = phate_operator.fit_transform(EBT_sqrt)\n",
    "# scprep.plot.scatter2d(Y_phate, c=sample_labels, figsize=(12,8), cmap=\"Spectral\",\n",
    "#                       ticks=False, label_prefix=\"PHATE\")"
   ]
  }
 ],
 "metadata": {
  "colab": {
   "collapsed_sections": [
    "d0KT6uOLX3_v"
   ],
   "name": "Copy of EmbryoidBody.ipynb",
   "provenance": [
    {
     "file_id": "https://github.com/KrishnaswamyLab/PHATE/blob/master/Python/tutorial/EmbryoidBody.ipynb",
     "timestamp": 1551227659362
    }
   ],
   "toc_visible": true,
   "version": "0.3.2"
  },
  "kernelspec": {
   "display_name": "Conda Python",
   "language": "python",
   "name": "base"
  },
  "language_info": {
   "codemirror_mode": {
    "name": "ipython",
    "version": 3
   },
   "file_extension": ".py",
   "mimetype": "text/x-python",
   "name": "python",
   "nbconvert_exporter": "python",
   "pygments_lexer": "ipython3",
   "version": "3.7.1"
  }
 },
 "nbformat": 4,
 "nbformat_minor": 1
}
